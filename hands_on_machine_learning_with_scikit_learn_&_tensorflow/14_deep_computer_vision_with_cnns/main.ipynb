{
 "metadata": {
  "language_info": {
   "codemirror_mode": {
    "name": "ipython",
    "version": 3
   },
   "file_extension": ".py",
   "mimetype": "text/x-python",
   "name": "python",
   "nbconvert_exporter": "python",
   "pygments_lexer": "ipython3",
   "version": 3
  },
  "orig_nbformat": 4
 },
 "nbformat": 4,
 "nbformat_minor": 2,
 "cells": [
  {
   "source": [
    "## 使用卷积神经网络的深度计算机视觉"
   ],
   "cell_type": "markdown",
   "metadata": {}
  },
  {
   "source": [
    "### 视觉皮层的架构"
   ],
   "cell_type": "markdown",
   "metadata": {}
  },
  {
   "source": [
    "### 卷积层"
   ],
   "cell_type": "markdown",
   "metadata": {}
  },
  {
   "source": [
    "### 池化层"
   ],
   "cell_type": "markdown",
   "metadata": {}
  },
  {
   "cell_type": "code",
   "execution_count": null,
   "metadata": {},
   "outputs": [],
   "source": [
    "import tensorflow as tf\n",
    "from tensorflow import keras\n",
    "\n",
    "max_pool = keras.layers.MaxPool2D(pool_size=2)\n",
    "output = tf.nn.max_pool(images, ksize=(1, 1, 1, 3), strides=(1, 1, 1, 3), padding=\"valid\")\n",
    "depth_pool = keras.layers.Lambda(lambda X: tf.nn.max_pool(X, ksize=(1, 1, 1, 3), strides=(1, 1, 1, 3), padding=\"valid\"))"
   ]
  }
 ]
}
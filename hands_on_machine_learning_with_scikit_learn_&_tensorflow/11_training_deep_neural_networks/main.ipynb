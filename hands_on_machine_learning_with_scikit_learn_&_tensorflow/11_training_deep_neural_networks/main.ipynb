{
 "cells": [
  {
   "source": [
    "## 训练深度神经网络"
   ],
   "cell_type": "markdown",
   "metadata": {}
  },
  {
   "source": [
    "### 梯度消失与梯度爆炸问题"
   ],
   "cell_type": "markdown",
   "metadata": {}
  },
  {
   "cell_type": "code",
   "execution_count": 2,
   "metadata": {},
   "outputs": [],
   "source": [
    "import tensorflow as tf\n",
    "from tensorflow import keras\n",
    "from tensorflow.keras import layers\n",
    "\n",
    "model = keras.models.Sequential([\n",
    "    layers.Flatten(input_shape=[28, 28]),\n",
    "    layers.BatchNormalization(),\n",
    "    layers.Dense(300, activation='elu', kernel_initializer='he_normal'),\n",
    "    layers.BatchNormalization(),\n",
    "    layers.Dense(100, activation='elu', kernel_initializer='he_normal'),\n",
    "    layers.BatchNormalization(),\n",
    "    layers.Dense(10, activation='softmax'),\n",
    "])"
   ]
  },
  {
   "source": [
    "### 重用预训练层"
   ],
   "cell_type": "markdown",
   "metadata": {}
  },
  {
   "cell_type": "code",
   "execution_count": 4,
   "metadata": {},
   "outputs": [],
   "source": [
    "import numpy as np\n",
    "\n",
    "(X_train_full, y_train_full), (X_test, y_test) = keras.datasets.fashion_mnist.load_data()\n",
    "X_train_full = X_train_full / 255.0\n",
    "X_test = X_test / 255.0\n",
    "X_valid, X_train = X_train_full[:5000], X_train_full[5000:]\n",
    "y_valid, y_train = y_train_full[:5000], y_train_full[5000:]\n",
    "\n",
    "def split_dataset(X, y):\n",
    "    y_5_or_6 = (y == 5) | (y == 6) # sandals or shirts\n",
    "    y_A = y[~y_5_or_6]\n",
    "    y_A[y_A > 6] -= 2 # class indices 7, 8, 9 should be moved to 5, 6, 7\n",
    "    y_B = (y[y_5_or_6] == 6).astype(np.float32) # binary classification task: is it a shirt (class 6)?\n",
    "    return ((X[~y_5_or_6], y_A),\n",
    "            (X[y_5_or_6], y_B))\n",
    "\n",
    "(X_train_A, y_train_A), (X_train_B, y_train_B) = split_dataset(X_train, y_train)\n",
    "(X_valid_A, y_valid_A), (X_valid_B, y_valid_B) = split_dataset(X_valid, y_valid)\n",
    "(X_test_A, y_test_A), (X_test_B, y_test_B) = split_dataset(X_test, y_test)\n",
    "X_train_B = X_train_B[:200]\n",
    "y_train_B = y_train_B[:200]"
   ]
  },
  {
   "cell_type": "code",
   "execution_count": 5,
   "metadata": {},
   "outputs": [
    {
     "output_type": "stream",
     "name": "stderr",
     "text": [
      "/usr/local/lib/python3.9/site-packages/tensorflow/python/keras/optimizer_v2/optimizer_v2.py:374: UserWarning: The `lr` argument is deprecated, use `learning_rate` instead.\n",
      "  warnings.warn(\n",
      "Epoch 1/20\n",
      "1375/1375 [==============================] - 7s 4ms/step - loss: 0.5472 - accuracy: 0.8264 - val_loss: 0.3763 - val_accuracy: 0.8717\n",
      "Epoch 2/20\n",
      "1375/1375 [==============================] - 5s 4ms/step - loss: 0.3507 - accuracy: 0.8790 - val_loss: 0.3277 - val_accuracy: 0.8884\n",
      "Epoch 3/20\n",
      "1375/1375 [==============================] - 5s 3ms/step - loss: 0.3162 - accuracy: 0.8901 - val_loss: 0.3062 - val_accuracy: 0.8954\n",
      "Epoch 4/20\n",
      "1375/1375 [==============================] - 4s 3ms/step - loss: 0.2970 - accuracy: 0.8972 - val_loss: 0.2904 - val_accuracy: 0.9041\n",
      "Epoch 5/20\n",
      "1375/1375 [==============================] - 5s 4ms/step - loss: 0.2840 - accuracy: 0.9024 - val_loss: 0.2811 - val_accuracy: 0.9041\n",
      "Epoch 6/20\n",
      "1375/1375 [==============================] - 5s 4ms/step - loss: 0.2746 - accuracy: 0.9062 - val_loss: 0.2745 - val_accuracy: 0.9036\n",
      "Epoch 7/20\n",
      "1375/1375 [==============================] - 5s 4ms/step - loss: 0.2667 - accuracy: 0.9087 - val_loss: 0.2798 - val_accuracy: 0.9033\n",
      "Epoch 8/20\n",
      "1375/1375 [==============================] - 7s 5ms/step - loss: 0.2605 - accuracy: 0.9099 - val_loss: 0.2657 - val_accuracy: 0.9083\n",
      "Epoch 9/20\n",
      "1375/1375 [==============================] - 5s 3ms/step - loss: 0.2545 - accuracy: 0.9131 - val_loss: 0.2614 - val_accuracy: 0.9063\n",
      "Epoch 10/20\n",
      "1375/1375 [==============================] - 7s 5ms/step - loss: 0.2498 - accuracy: 0.9147 - val_loss: 0.2559 - val_accuracy: 0.9160\n",
      "Epoch 11/20\n",
      "1375/1375 [==============================] - 5s 4ms/step - loss: 0.2452 - accuracy: 0.9157 - val_loss: 0.2525 - val_accuracy: 0.9141\n",
      "Epoch 12/20\n",
      "1375/1375 [==============================] - 4s 3ms/step - loss: 0.2415 - accuracy: 0.9172 - val_loss: 0.2528 - val_accuracy: 0.9133\n",
      "Epoch 13/20\n",
      "1375/1375 [==============================] - 5s 3ms/step - loss: 0.2379 - accuracy: 0.9180 - val_loss: 0.2516 - val_accuracy: 0.9175\n",
      "Epoch 14/20\n",
      "1375/1375 [==============================] - 4s 3ms/step - loss: 0.2339 - accuracy: 0.9194 - val_loss: 0.2650 - val_accuracy: 0.9093\n",
      "Epoch 15/20\n",
      "1375/1375 [==============================] - 4s 3ms/step - loss: 0.2315 - accuracy: 0.9210 - val_loss: 0.2426 - val_accuracy: 0.9153\n",
      "Epoch 16/20\n",
      "1375/1375 [==============================] - 4s 3ms/step - loss: 0.2285 - accuracy: 0.9218 - val_loss: 0.2580 - val_accuracy: 0.9088\n",
      "Epoch 17/20\n",
      "1375/1375 [==============================] - 4s 3ms/step - loss: 0.2259 - accuracy: 0.9227 - val_loss: 0.2438 - val_accuracy: 0.9183\n",
      "Epoch 18/20\n",
      "1375/1375 [==============================] - 5s 4ms/step - loss: 0.2232 - accuracy: 0.9237 - val_loss: 0.2428 - val_accuracy: 0.9180\n",
      "Epoch 19/20\n",
      "1375/1375 [==============================] - 4s 3ms/step - loss: 0.2209 - accuracy: 0.9240 - val_loss: 0.2372 - val_accuracy: 0.9193\n",
      "Epoch 20/20\n",
      "1375/1375 [==============================] - 4s 3ms/step - loss: 0.2182 - accuracy: 0.9248 - val_loss: 0.2351 - val_accuracy: 0.9205\n"
     ]
    }
   ],
   "source": [
    "model_A = keras.models.Sequential()\n",
    "model_A.add(keras.layers.Flatten(input_shape=[28, 28]))\n",
    "for n_hidden in (300, 100, 50, 50, 50):\n",
    "    model_A.add(keras.layers.Dense(n_hidden, activation=\"selu\"))\n",
    "model_A.add(keras.layers.Dense(8, activation=\"softmax\"))\n",
    "model_A.compile(loss=\"sparse_categorical_crossentropy\", optimizer=keras.optimizers.SGD(lr=1e-3), metrics=[\"accuracy\"])\n",
    "history = model_A.fit(X_train_A, y_train_A, epochs=20, validation_data=(X_valid_A, y_valid_A))\n",
    "model_A.save(\"my_model_A.h5\")"
   ]
  },
  {
   "cell_type": "code",
   "execution_count": 6,
   "metadata": {},
   "outputs": [
    {
     "output_type": "stream",
     "name": "stdout",
     "text": [
      "Epoch 1/20\n",
      "7/7 [==============================] - 2s 55ms/step - loss: 0.8249 - accuracy: 0.3850 - val_loss: 0.6746 - val_accuracy: 0.6065\n",
      "Epoch 2/20\n",
      "7/7 [==============================] - 0s 21ms/step - loss: 0.6148 - accuracy: 0.6950 - val_loss: 0.5343 - val_accuracy: 0.7546\n",
      "Epoch 3/20\n",
      "7/7 [==============================] - 0s 26ms/step - loss: 0.4845 - accuracy: 0.8200 - val_loss: 0.4402 - val_accuracy: 0.8854\n",
      "Epoch 4/20\n",
      "7/7 [==============================] - 0s 20ms/step - loss: 0.3999 - accuracy: 0.9200 - val_loss: 0.3735 - val_accuracy: 0.9391\n",
      "Epoch 5/20\n",
      "7/7 [==============================] - 0s 19ms/step - loss: 0.3382 - accuracy: 0.9450 - val_loss: 0.3233 - val_accuracy: 0.9675\n",
      "Epoch 6/20\n",
      "7/7 [==============================] - 0s 50ms/step - loss: 0.2926 - accuracy: 0.9600 - val_loss: 0.2863 - val_accuracy: 0.9746\n",
      "Epoch 7/20\n",
      "7/7 [==============================] - 0s 18ms/step - loss: 0.2574 - accuracy: 0.9750 - val_loss: 0.2559 - val_accuracy: 0.9777\n",
      "Epoch 8/20\n",
      "7/7 [==============================] - 0s 14ms/step - loss: 0.2288 - accuracy: 0.9850 - val_loss: 0.2328 - val_accuracy: 0.9828\n",
      "Epoch 9/20\n",
      "7/7 [==============================] - 0s 55ms/step - loss: 0.2065 - accuracy: 0.9850 - val_loss: 0.2135 - val_accuracy: 0.9828\n",
      "Epoch 10/20\n",
      "7/7 [==============================] - 0s 23ms/step - loss: 0.1882 - accuracy: 0.9900 - val_loss: 0.1960 - val_accuracy: 0.9848\n",
      "Epoch 11/20\n",
      "7/7 [==============================] - 0s 18ms/step - loss: 0.1717 - accuracy: 0.9900 - val_loss: 0.1822 - val_accuracy: 0.9878\n",
      "Epoch 12/20\n",
      "7/7 [==============================] - 0s 12ms/step - loss: 0.1584 - accuracy: 0.9900 - val_loss: 0.1705 - val_accuracy: 0.9888\n",
      "Epoch 13/20\n",
      "7/7 [==============================] - 0s 48ms/step - loss: 0.1466 - accuracy: 0.9900 - val_loss: 0.1601 - val_accuracy: 0.9888\n",
      "Epoch 14/20\n",
      "7/7 [==============================] - 0s 18ms/step - loss: 0.1365 - accuracy: 0.9900 - val_loss: 0.1508 - val_accuracy: 0.9899\n",
      "Epoch 15/20\n",
      "7/7 [==============================] - 0s 16ms/step - loss: 0.1275 - accuracy: 0.9900 - val_loss: 0.1427 - val_accuracy: 0.9899\n",
      "Epoch 16/20\n",
      "7/7 [==============================] - 0s 18ms/step - loss: 0.1198 - accuracy: 0.9950 - val_loss: 0.1354 - val_accuracy: 0.9899\n",
      "Epoch 17/20\n",
      "7/7 [==============================] - 0s 30ms/step - loss: 0.1128 - accuracy: 0.9950 - val_loss: 0.1287 - val_accuracy: 0.9899\n",
      "Epoch 18/20\n",
      "7/7 [==============================] - 0s 16ms/step - loss: 0.1064 - accuracy: 0.9950 - val_loss: 0.1229 - val_accuracy: 0.9899\n",
      "Epoch 19/20\n",
      "7/7 [==============================] - 0s 14ms/step - loss: 0.1005 - accuracy: 0.9950 - val_loss: 0.1177 - val_accuracy: 0.9899\n",
      "Epoch 20/20\n",
      "7/7 [==============================] - 0s 14ms/step - loss: 0.0953 - accuracy: 0.9950 - val_loss: 0.1125 - val_accuracy: 0.9909\n"
     ]
    }
   ],
   "source": [
    "model_B = keras.models.Sequential()\n",
    "model_B.add(keras.layers.Flatten(input_shape=[28, 28]))\n",
    "for n_hidden in (300, 100, 50, 50, 50):\n",
    "    model_B.add(keras.layers.Dense(n_hidden, activation=\"selu\"))\n",
    "model_B.add(keras.layers.Dense(1, activation=\"sigmoid\"))\n",
    "model_B.compile(loss=\"binary_crossentropy\", optimizer=keras.optimizers.SGD(lr=1e-3), metrics=[\"accuracy\"])\n",
    "history = model_B.fit(X_train_B, y_train_B, epochs=20, validation_data=(X_valid_B, y_valid_B))"
   ]
  },
  {
   "cell_type": "code",
   "execution_count": 7,
   "metadata": {},
   "outputs": [],
   "source": [
    "model_A = keras.models.load_model('my_model_A.h5')\n",
    "model_A_clone = keras.models.clone_model(model_A)\n",
    "model_A_clone.set_weights(model_A.get_weights())\n",
    "\n",
    "model_B_on_A = keras.models.Sequential(model_A_clone.layers[:-1])\n",
    "model_B_on_A.add(keras.layers.Dense(1, activation='sigmoid'))\n",
    "\n",
    "for layer in model_B_on_A.layers[:-1]:\n",
    "    layer.trainable = False\n",
    "\n",
    "model_B_on_A.compile(loss=\"binary_crossentropy\", optimizer='sgd', metrics=['accuracy'])"
   ]
  },
  {
   "cell_type": "code",
   "execution_count": 10,
   "metadata": {},
   "outputs": [
    {
     "output_type": "stream",
     "name": "stdout",
     "text": [
      "Epoch 1/4\n",
      "7/7 [==============================] - 0s 23ms/step - loss: 0.0890 - accuracy: 1.0000 - val_loss: 0.1028 - val_accuracy: 0.9939\n",
      "Epoch 2/4\n",
      "7/7 [==============================] - 0s 30ms/step - loss: 0.0882 - accuracy: 1.0000 - val_loss: 0.1020 - val_accuracy: 0.9939\n",
      "Epoch 3/4\n",
      "7/7 [==============================] - 0s 29ms/step - loss: 0.0874 - accuracy: 1.0000 - val_loss: 0.1011 - val_accuracy: 0.9939\n",
      "Epoch 4/4\n",
      "7/7 [==============================] - 0s 19ms/step - loss: 0.0866 - accuracy: 1.0000 - val_loss: 0.1003 - val_accuracy: 0.9939\n",
      "Epoch 1/16\n",
      "7/7 [==============================] - 1s 44ms/step - loss: 0.0858 - accuracy: 1.0000 - val_loss: 0.0995 - val_accuracy: 0.9939\n",
      "Epoch 2/16\n",
      "7/7 [==============================] - 0s 18ms/step - loss: 0.0850 - accuracy: 1.0000 - val_loss: 0.0987 - val_accuracy: 0.9939\n",
      "Epoch 3/16\n",
      "7/7 [==============================] - 0s 19ms/step - loss: 0.0843 - accuracy: 1.0000 - val_loss: 0.0980 - val_accuracy: 0.9939\n",
      "Epoch 4/16\n",
      "7/7 [==============================] - 0s 19ms/step - loss: 0.0835 - accuracy: 1.0000 - val_loss: 0.0972 - val_accuracy: 0.9939\n",
      "Epoch 5/16\n",
      "7/7 [==============================] - 0s 15ms/step - loss: 0.0828 - accuracy: 1.0000 - val_loss: 0.0964 - val_accuracy: 0.9939\n",
      "Epoch 6/16\n",
      "7/7 [==============================] - 0s 18ms/step - loss: 0.0821 - accuracy: 1.0000 - val_loss: 0.0957 - val_accuracy: 0.9939\n",
      "Epoch 7/16\n",
      "7/7 [==============================] - 0s 18ms/step - loss: 0.0814 - accuracy: 1.0000 - val_loss: 0.0950 - val_accuracy: 0.9939\n",
      "Epoch 8/16\n",
      "7/7 [==============================] - 0s 25ms/step - loss: 0.0808 - accuracy: 1.0000 - val_loss: 0.0944 - val_accuracy: 0.9939\n",
      "Epoch 9/16\n",
      "7/7 [==============================] - 0s 19ms/step - loss: 0.0801 - accuracy: 1.0000 - val_loss: 0.0937 - val_accuracy: 0.9939\n",
      "Epoch 10/16\n",
      "7/7 [==============================] - 0s 22ms/step - loss: 0.0795 - accuracy: 1.0000 - val_loss: 0.0931 - val_accuracy: 0.9939\n",
      "Epoch 11/16\n",
      "7/7 [==============================] - 0s 12ms/step - loss: 0.0789 - accuracy: 1.0000 - val_loss: 0.0924 - val_accuracy: 0.9939\n",
      "Epoch 12/16\n",
      "7/7 [==============================] - 0s 19ms/step - loss: 0.0782 - accuracy: 1.0000 - val_loss: 0.0917 - val_accuracy: 0.9939\n",
      "Epoch 13/16\n",
      "7/7 [==============================] - 0s 19ms/step - loss: 0.0776 - accuracy: 1.0000 - val_loss: 0.0911 - val_accuracy: 0.9939\n",
      "Epoch 14/16\n",
      "7/7 [==============================] - 0s 18ms/step - loss: 0.0770 - accuracy: 1.0000 - val_loss: 0.0905 - val_accuracy: 0.9939\n",
      "Epoch 15/16\n",
      "7/7 [==============================] - 0s 19ms/step - loss: 0.0765 - accuracy: 1.0000 - val_loss: 0.0899 - val_accuracy: 0.9939\n",
      "Epoch 16/16\n",
      "7/7 [==============================] - 0s 18ms/step - loss: 0.0759 - accuracy: 1.0000 - val_loss: 0.0893 - val_accuracy: 0.9939\n",
      "63/63 [==============================] - 0s 3ms/step - loss: 0.0898 - accuracy: 0.9950\n",
      "[0.08980648219585419, 0.9950000047683716]\n"
     ]
    }
   ],
   "source": [
    "history = model_B_on_A.fit(X_train_B, y_train_B, epochs=4, validation_data=(X_valid_B, y_valid_B))\n",
    "\n",
    "for layer in model_B_on_A.layers[:-1]:\n",
    "    layer.trainable = True\n",
    "optimizer = keras.optimizers.SGD(learning_rate=1e-4)\n",
    "model_B_on_A.compile(loss='binary_crossentropy', optimizer=optimizer, metrics=['accuracy'])\n",
    "history = model_B_on_A.fit(X_train_B, y_train_B, epochs=16, validation_data=(X_valid_B, y_valid_B))\n",
    "print(model_B_on_A.evaluate(X_test_B, y_test_B))"
   ]
  },
  {
   "source": [
    "### 更快的优化器"
   ],
   "cell_type": "markdown",
   "metadata": {}
  },
  {
   "source": [
    "### 通过正则化避免过拟合"
   ],
   "cell_type": "markdown",
   "metadata": {}
  },
  {
   "cell_type": "code",
   "execution_count": 11,
   "metadata": {},
   "outputs": [],
   "source": [
    "from functools import partial\n",
    "\n",
    "RegularizedDense = partial(keras.layers.Dense, activation='elu', kernel_initializer='he_normal', kernel_regularizer=keras.regularizers.l2(0.01))\n",
    "\n",
    "model = keras.models.Sequential([\n",
    "    keras.layers.Flatten(input_shape=[28, 28]),\n",
    "    RegularizedDense(300),\n",
    "    RegularizedDense(100),\n",
    "    RegularizedDense(10, activation='softmax', kernel_initializer='glorot_uniform'),\n",
    "])"
   ]
  },
  {
   "cell_type": "code",
   "execution_count": 13,
   "metadata": {},
   "outputs": [],
   "source": [
    " model = keras.models.Sequential([\n",
    "     layers.Flatten(input_shape=[28, 28]),\n",
    "     layers.Dropout(rate=0.2),\n",
    "     layers.Dense(300, activation='relu', kernel_initializer='he_normal'),\n",
    "     layers.Dropout(rate=0.2),\n",
    "     layers.Dense(100, activation='relu', kernel_initializer='he_normal'),\n",
    "     layers.Dropout(rate=0.2),\n",
    "     layers.Dense(10, activation='softmax'),\n",
    " ])"
   ]
  },
  {
   "cell_type": "code",
   "execution_count": null,
   "metadata": {},
   "outputs": [],
   "source": [
    "class MCDropout(layers.Dropout):\n",
    "    def call(self, inputs):\n",
    "        return super().call(inputs, training=True)"
   ]
  }
 ],
 "metadata": {
  "kernelspec": {
   "name": "python3",
   "display_name": "Python 3.9.5 64-bit"
  },
  "interpreter": {
   "hash": "aee8b7b246df8f9039afb4144a1f6fd8d2ca17a180786b69acc140d282b71a49"
  }
 },
 "nbformat": 4,
 "nbformat_minor": 5
}